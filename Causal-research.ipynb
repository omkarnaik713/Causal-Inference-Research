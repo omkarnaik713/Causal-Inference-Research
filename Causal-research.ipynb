{
 "cells": [
  {
   "cell_type": "code",
   "execution_count": 74,
   "metadata": {},
   "outputs": [
    {
     "name": "stdout",
     "output_type": "stream",
     "text": [
      "Hello this is working\n"
     ]
    }
   ],
   "source": [
    "print(\"Hello this is working\")"
   ]
  },
  {
   "cell_type": "code",
   "execution_count": 2,
   "metadata": {},
   "outputs": [
    {
     "ename": "ModuleNotFoundError",
     "evalue": "No module named 'pandas'",
     "output_type": "error",
     "traceback": [
      "\u001b[0;31m---------------------------------------------------------------------------\u001b[0m",
      "\u001b[0;31mModuleNotFoundError\u001b[0m                       Traceback (most recent call last)",
      "\u001b[1;32m/Users/omkarnaik/Causal-Inferece/obesity.ipynb Cell 2\u001b[0m line \u001b[0;36m1\n\u001b[0;32m----> <a href='vscode-notebook-cell:/Users/omkarnaik/Causal-Inferece/obesity.ipynb#W1sZmlsZQ%3D%3D?line=0'>1</a>\u001b[0m \u001b[39mimport\u001b[39;00m \u001b[39mpandas\u001b[39;00m \u001b[39mas\u001b[39;00m \u001b[39mpd\u001b[39;00m \n\u001b[1;32m      <a href='vscode-notebook-cell:/Users/omkarnaik/Causal-Inferece/obesity.ipynb#W1sZmlsZQ%3D%3D?line=1'>2</a>\u001b[0m data \u001b[39m=\u001b[39m pd\u001b[39m.\u001b[39mread_csv(\u001b[39m'\u001b[39m\u001b[39mdata.csv\u001b[39m\u001b[39m'\u001b[39m)\n",
      "\u001b[0;31mModuleNotFoundError\u001b[0m: No module named 'pandas'"
     ]
    }
   ],
   "source": [
    "import pandas as pd \n",
    "data = pd.read_csv('data.csv')"
   ]
  },
  {
   "cell_type": "code",
   "execution_count": 2,
   "metadata": {},
   "outputs": [
    {
     "data": {
      "text/html": [
       "<div>\n",
       "<style scoped>\n",
       "    .dataframe tbody tr th:only-of-type {\n",
       "        vertical-align: middle;\n",
       "    }\n",
       "\n",
       "    .dataframe tbody tr th {\n",
       "        vertical-align: top;\n",
       "    }\n",
       "\n",
       "    .dataframe thead th {\n",
       "        text-align: right;\n",
       "    }\n",
       "</style>\n",
       "<table border=\"1\" class=\"dataframe\">\n",
       "  <thead>\n",
       "    <tr style=\"text-align: right;\">\n",
       "      <th></th>\n",
       "      <th>Patient ID</th>\n",
       "      <th>Age</th>\n",
       "      <th>Sex</th>\n",
       "      <th>Cholesterol</th>\n",
       "      <th>Blood Pressure</th>\n",
       "      <th>Heart Rate</th>\n",
       "      <th>Diabetes</th>\n",
       "      <th>Family History</th>\n",
       "      <th>Smoking</th>\n",
       "      <th>Obesity</th>\n",
       "      <th>...</th>\n",
       "      <th>Sedentary Hours Per Day</th>\n",
       "      <th>Income</th>\n",
       "      <th>BMI</th>\n",
       "      <th>Triglycerides</th>\n",
       "      <th>Physical Activity Days Per Week</th>\n",
       "      <th>Sleep Hours Per Day</th>\n",
       "      <th>Country</th>\n",
       "      <th>Continent</th>\n",
       "      <th>Hemisphere</th>\n",
       "      <th>Heart Attack Risk</th>\n",
       "    </tr>\n",
       "  </thead>\n",
       "  <tbody>\n",
       "    <tr>\n",
       "      <th>0</th>\n",
       "      <td>BMW7812</td>\n",
       "      <td>67</td>\n",
       "      <td>Male</td>\n",
       "      <td>208</td>\n",
       "      <td>158/88</td>\n",
       "      <td>72</td>\n",
       "      <td>0</td>\n",
       "      <td>0</td>\n",
       "      <td>1</td>\n",
       "      <td>0</td>\n",
       "      <td>...</td>\n",
       "      <td>6.615001</td>\n",
       "      <td>261404</td>\n",
       "      <td>31.251233</td>\n",
       "      <td>286</td>\n",
       "      <td>0</td>\n",
       "      <td>6</td>\n",
       "      <td>Argentina</td>\n",
       "      <td>South America</td>\n",
       "      <td>Southern Hemisphere</td>\n",
       "      <td>0</td>\n",
       "    </tr>\n",
       "    <tr>\n",
       "      <th>1</th>\n",
       "      <td>CZE1114</td>\n",
       "      <td>21</td>\n",
       "      <td>Male</td>\n",
       "      <td>389</td>\n",
       "      <td>165/93</td>\n",
       "      <td>98</td>\n",
       "      <td>1</td>\n",
       "      <td>1</td>\n",
       "      <td>1</td>\n",
       "      <td>1</td>\n",
       "      <td>...</td>\n",
       "      <td>4.963459</td>\n",
       "      <td>285768</td>\n",
       "      <td>27.194973</td>\n",
       "      <td>235</td>\n",
       "      <td>1</td>\n",
       "      <td>7</td>\n",
       "      <td>Canada</td>\n",
       "      <td>North America</td>\n",
       "      <td>Northern Hemisphere</td>\n",
       "      <td>0</td>\n",
       "    </tr>\n",
       "    <tr>\n",
       "      <th>2</th>\n",
       "      <td>BNI9906</td>\n",
       "      <td>21</td>\n",
       "      <td>Female</td>\n",
       "      <td>324</td>\n",
       "      <td>174/99</td>\n",
       "      <td>72</td>\n",
       "      <td>1</td>\n",
       "      <td>0</td>\n",
       "      <td>0</td>\n",
       "      <td>0</td>\n",
       "      <td>...</td>\n",
       "      <td>9.463426</td>\n",
       "      <td>235282</td>\n",
       "      <td>28.176571</td>\n",
       "      <td>587</td>\n",
       "      <td>4</td>\n",
       "      <td>4</td>\n",
       "      <td>France</td>\n",
       "      <td>Europe</td>\n",
       "      <td>Northern Hemisphere</td>\n",
       "      <td>0</td>\n",
       "    </tr>\n",
       "    <tr>\n",
       "      <th>3</th>\n",
       "      <td>JLN3497</td>\n",
       "      <td>84</td>\n",
       "      <td>Male</td>\n",
       "      <td>383</td>\n",
       "      <td>163/100</td>\n",
       "      <td>73</td>\n",
       "      <td>1</td>\n",
       "      <td>1</td>\n",
       "      <td>1</td>\n",
       "      <td>0</td>\n",
       "      <td>...</td>\n",
       "      <td>7.648981</td>\n",
       "      <td>125640</td>\n",
       "      <td>36.464704</td>\n",
       "      <td>378</td>\n",
       "      <td>3</td>\n",
       "      <td>4</td>\n",
       "      <td>Canada</td>\n",
       "      <td>North America</td>\n",
       "      <td>Northern Hemisphere</td>\n",
       "      <td>0</td>\n",
       "    </tr>\n",
       "    <tr>\n",
       "      <th>4</th>\n",
       "      <td>GFO8847</td>\n",
       "      <td>66</td>\n",
       "      <td>Male</td>\n",
       "      <td>318</td>\n",
       "      <td>91/88</td>\n",
       "      <td>93</td>\n",
       "      <td>1</td>\n",
       "      <td>1</td>\n",
       "      <td>1</td>\n",
       "      <td>1</td>\n",
       "      <td>...</td>\n",
       "      <td>1.514821</td>\n",
       "      <td>160555</td>\n",
       "      <td>21.809144</td>\n",
       "      <td>231</td>\n",
       "      <td>1</td>\n",
       "      <td>5</td>\n",
       "      <td>Thailand</td>\n",
       "      <td>Asia</td>\n",
       "      <td>Northern Hemisphere</td>\n",
       "      <td>0</td>\n",
       "    </tr>\n",
       "  </tbody>\n",
       "</table>\n",
       "<p>5 rows × 26 columns</p>\n",
       "</div>"
      ],
      "text/plain": [
       "  Patient ID  Age     Sex  Cholesterol Blood Pressure  Heart Rate  Diabetes  \\\n",
       "0    BMW7812   67    Male          208         158/88          72         0   \n",
       "1    CZE1114   21    Male          389         165/93          98         1   \n",
       "2    BNI9906   21  Female          324         174/99          72         1   \n",
       "3    JLN3497   84    Male          383        163/100          73         1   \n",
       "4    GFO8847   66    Male          318          91/88          93         1   \n",
       "\n",
       "   Family History  Smoking  Obesity  ...  Sedentary Hours Per Day  Income  \\\n",
       "0               0        1        0  ...                 6.615001  261404   \n",
       "1               1        1        1  ...                 4.963459  285768   \n",
       "2               0        0        0  ...                 9.463426  235282   \n",
       "3               1        1        0  ...                 7.648981  125640   \n",
       "4               1        1        1  ...                 1.514821  160555   \n",
       "\n",
       "         BMI  Triglycerides  Physical Activity Days Per Week  \\\n",
       "0  31.251233            286                                0   \n",
       "1  27.194973            235                                1   \n",
       "2  28.176571            587                                4   \n",
       "3  36.464704            378                                3   \n",
       "4  21.809144            231                                1   \n",
       "\n",
       "   Sleep Hours Per Day    Country      Continent           Hemisphere  \\\n",
       "0                    6  Argentina  South America  Southern Hemisphere   \n",
       "1                    7     Canada  North America  Northern Hemisphere   \n",
       "2                    4     France         Europe  Northern Hemisphere   \n",
       "3                    4     Canada  North America  Northern Hemisphere   \n",
       "4                    5   Thailand           Asia  Northern Hemisphere   \n",
       "\n",
       "   Heart Attack Risk  \n",
       "0                  0  \n",
       "1                  0  \n",
       "2                  0  \n",
       "3                  0  \n",
       "4                  0  \n",
       "\n",
       "[5 rows x 26 columns]"
      ]
     },
     "execution_count": 2,
     "metadata": {},
     "output_type": "execute_result"
    }
   ],
   "source": [
    "data.head()"
   ]
  },
  {
   "cell_type": "code",
   "execution_count": 3,
   "metadata": {},
   "outputs": [
    {
     "name": "stdout",
     "output_type": "stream",
     "text": [
      "<class 'pandas.core.frame.DataFrame'>\n",
      "RangeIndex: 8763 entries, 0 to 8762\n",
      "Data columns (total 26 columns):\n",
      " #   Column                           Non-Null Count  Dtype  \n",
      "---  ------                           --------------  -----  \n",
      " 0   Patient ID                       8763 non-null   object \n",
      " 1   Age                              8763 non-null   int64  \n",
      " 2   Sex                              8763 non-null   object \n",
      " 3   Cholesterol                      8763 non-null   int64  \n",
      " 4   Blood Pressure                   8763 non-null   object \n",
      " 5   Heart Rate                       8763 non-null   int64  \n",
      " 6   Diabetes                         8763 non-null   int64  \n",
      " 7   Family History                   8763 non-null   int64  \n",
      " 8   Smoking                          8763 non-null   int64  \n",
      " 9   Obesity                          8763 non-null   int64  \n",
      " 10  Alcohol Consumption              8763 non-null   int64  \n",
      " 11  Exercise Hours Per Week          8763 non-null   float64\n",
      " 12  Diet                             8763 non-null   object \n",
      " 13  Previous Heart Problems          8763 non-null   int64  \n",
      " 14  Medication Use                   8763 non-null   int64  \n",
      " 15  Stress Level                     8763 non-null   int64  \n",
      " 16  Sedentary Hours Per Day          8763 non-null   float64\n",
      " 17  Income                           8763 non-null   int64  \n",
      " 18  BMI                              8763 non-null   float64\n",
      " 19  Triglycerides                    8763 non-null   int64  \n",
      " 20  Physical Activity Days Per Week  8763 non-null   int64  \n",
      " 21  Sleep Hours Per Day              8763 non-null   int64  \n",
      " 22  Country                          8763 non-null   object \n",
      " 23  Continent                        8763 non-null   object \n",
      " 24  Hemisphere                       8763 non-null   object \n",
      " 25  Heart Attack Risk                8763 non-null   int64  \n",
      "dtypes: float64(3), int64(16), object(7)\n",
      "memory usage: 1.7+ MB\n"
     ]
    }
   ],
   "source": [
    "data.info()"
   ]
  },
  {
   "cell_type": "code",
   "execution_count": 4,
   "metadata": {},
   "outputs": [
    {
     "data": {
      "image/png": "[encoded data removed]",
      "text/plain": [
       "<Figure size 1000x600 with 1 Axes>"
      ]
     },
     "metadata": {},
     "output_type": "display_data"
    }
   ],
   "source": [
    "import matplotlib.pyplot as plt\n",
    "import seaborn as sns\n",
    "plt.figure(figsize=(10,6))\n",
    "sns.scatterplot(x='Stress Level', y = 'Heart Attack Risk', hue = 'Sex',data = data,s = 70).set_title('Heart Attack risk with respect to Stress Level')\n",
    "plt.show()"
   ]
  },
  {
   "cell_type": "code",
   "execution_count": 5,
   "metadata": {},
   "outputs": [
    {
     "data": {
      "image/png": "[encoded data removed]",
      "text/plain": [
       "<Figure size 1000x600 with 1 Axes>"
      ]
     },
     "metadata": {},
     "output_type": "display_data"
    }
   ],
   "source": [
    "plt.figure(figsize=(10,6))\n",
    "sns.histplot(data = data['Heart Attack Risk'])\n",
    "plt.show()"
   ]
  },
  {
   "cell_type": "code",
   "execution_count": 6,
   "metadata": {},
   "outputs": [],
   "source": [
    "data['Stress Level'] = data['Stress Level'].apply(lambda x: 0 if x <5 else 1)"
   ]
  },
  {
   "cell_type": "code",
   "execution_count": 9,
   "metadata": {},
   "outputs": [
    {
     "data": {
      "image/png": "[encoded data removed]",
      "text/plain": [
       "<Figure size 1000x600 with 1 Axes>"
      ]
     },
     "metadata": {},
     "output_type": "display_data"
    }
   ],
   "source": [
    "plt.figure(figsize=(10,6))\n",
    "sns.scatterplot(x = 'Heart Attack Risk', y = 'Stress Level', hue= 'Sex', data = data, s = 70).set_title('Stress vs Heart Attack Risk')\n",
    "plt.show()"
   ]
  },
  {
   "cell_type": "code",
   "execution_count": 11,
   "metadata": {},
   "outputs": [
    {
     "name": "stdout",
     "output_type": "stream",
     "text": [
      "Sex\n",
      "Male      6111\n",
      "Female    2652\n",
      "Name: count, dtype: int64\n",
      "Heart Attack Risk\n",
      "0    5624\n",
      "1    3139\n",
      "Name: count, dtype: int64\n"
     ]
    }
   ],
   "source": [
    "print(data['Sex'].value_counts())\n",
    "print(data['Heart Attack Risk'].value_counts())"
   ]
  },
  {
   "cell_type": "code",
   "execution_count": 19,
   "metadata": {},
   "outputs": [
    {
     "name": "stdout",
     "output_type": "stream",
     "text": [
      "944 2195\n"
     ]
    }
   ],
   "source": [
    "female_heart_attack = len(data[(data['Sex'] == 'Female') & (data['Heart Attack Risk'] == 1)])\n",
    "male_heart_attack = len(data[(data['Sex']== 'Male')& (data['Heart Attack Risk'] == 1)])\n",
    "\n",
    "print(female_heart_attack, male_heart_attack)"
   ]
  },
  {
   "cell_type": "markdown",
   "metadata": {},
   "source": [
    "As we can see 944 out of the 2652 females had a Heart Attack Risk and 2195 out of the 6111 males had an Heart Attack Risk\n",
    "Percentage : \n",
    "- Female = 35.6%\n",
    "- Male = 35.9% \n",
    "\n",
    "Now let us calculate the percentage of deaths caused by heart attack for both the genders"
   ]
  },
  {
   "cell_type": "code",
   "execution_count": 20,
   "metadata": {},
   "outputs": [
    {
     "name": "stdout",
     "output_type": "stream",
     "text": [
      "567 1309\n"
     ]
    }
   ],
   "source": [
    "stress_attack_female = len(data[(data['Sex'] == 'Female') & (data['Stress Level'] == 1) & (data['Heart Attack Risk'] == 1 )])\n",
    "stress_attack_male = len(data[(data['Sex'] == 'Male') & (data['Stress Level'] == 1) & (data['Heart Attack Risk'] == 1 )])\n",
    "\n",
    "print(stress_attack_female, stress_attack_male)"
   ]
  },
  {
   "cell_type": "markdown",
   "metadata": {},
   "source": [
    "So out of the 944 females who had a high risk of heart attack 567 of them had high stress levels on the other hand\n",
    "1309 males out of the 2195 had a high risk of heart attack\n",
    "\n",
    "Percentage :\n",
    "- Female = 60%\n",
    "- Male = 59.6%\n",
    "\n",
    "As we can see more than half of the people who had high risk of Heart Attack also had a high level of Stress \n",
    "This shows a relation between the two, but there are still some confounding factors which prevent us from \n",
    "learning the true effect of stress level on heart attack risk."
   ]
  },
  {
   "cell_type": "code",
   "execution_count": 24,
   "metadata": {},
   "outputs": [
    {
     "data": {
      "image/svg+xml": [
       "<?xml version=\"1.0\" encoding=\"UTF-8\" standalone=\"no\"?>\n",
       "<!DOCTYPE svg PUBLIC \"-//W3C//DTD SVG 1.1//EN\"\n",
       " \"http://www.w3.org/Graphics/SVG/1.1/DTD/svg11.dtd\">\n",
       "<!-- Generated by graphviz version 12.1.0 (20240811.2233)\n",
       " -->\n",
       "<!-- Pages: 1 -->\n",
       "<svg width=\"274pt\" height=\"260pt\"\n",
       " viewBox=\"0.00 0.00 274.38 260.00\" xmlns=\"http://www.w3.org/2000/svg\" xmlns:xlink=\"http://www.w3.org/1999/xlink\">\n",
       "<g id=\"graph0\" class=\"graph\" transform=\"scale(1 1) rotate(0) translate(4 256)\">\n",
       "<polygon fill=\"white\" stroke=\"none\" points=\"-4,4 -4,-256 270.38,-256 270.38,4 -4,4\"/>\n",
       "<!-- Stress Level -->\n",
       "<g id=\"node1\" class=\"node\">\n",
       "<title>Stress Level</title>\n",
       "<ellipse fill=\"none\" stroke=\"black\" cx=\"129.22\" cy=\"-162\" rx=\"56.47\" ry=\"18\"/>\n",
       "<text text-anchor=\"middle\" x=\"129.22\" y=\"-156.95\" font-family=\"Times,serif\" font-size=\"14.00\">Stress Level</text>\n",
       "</g>\n",
       "<!-- Heart Attack Risk -->\n",
       "<g id=\"node2\" class=\"node\">\n",
       "<title>Heart Attack Risk</title>\n",
       "<ellipse fill=\"none\" stroke=\"black\" cx=\"129.22\" cy=\"-18\" rx=\"77.45\" ry=\"18\"/>\n",
       "<text text-anchor=\"middle\" x=\"129.22\" y=\"-12.95\" font-family=\"Times,serif\" font-size=\"14.00\">Heart Attack Risk</text>\n",
       "</g>\n",
       "<!-- Stress Level&#45;&gt;Heart Attack Risk -->\n",
       "<g id=\"edge1\" class=\"edge\">\n",
       "<title>Stress Level&#45;&gt;Heart Attack Risk</title>\n",
       "<path fill=\"none\" stroke=\"black\" d=\"M129.22,-143.59C129.22,-119.61 129.22,-76.14 129.22,-47.42\"/>\n",
       "<polygon fill=\"black\" stroke=\"black\" points=\"132.72,-47.62 129.22,-37.62 125.72,-47.62 132.72,-47.62\"/>\n",
       "</g>\n",
       "<!-- Smoking -->\n",
       "<g id=\"node5\" class=\"node\">\n",
       "<title>Smoking</title>\n",
       "<ellipse fill=\"none\" stroke=\"black\" cx=\"202.22\" cy=\"-90\" rx=\"44.7\" ry=\"18\"/>\n",
       "<text text-anchor=\"middle\" x=\"202.22\" y=\"-84.95\" font-family=\"Times,serif\" font-size=\"14.00\">Smoking</text>\n",
       "</g>\n",
       "<!-- Stress Level&#45;&gt;Smoking -->\n",
       "<g id=\"edge6\" class=\"edge\">\n",
       "<title>Stress Level&#45;&gt;Smoking</title>\n",
       "<path fill=\"none\" stroke=\"black\" d=\"M146.52,-144.41C155.74,-135.57 167.25,-124.53 177.41,-114.79\"/>\n",
       "<polygon fill=\"black\" stroke=\"black\" points=\"179.65,-117.48 184.45,-108.04 174.81,-112.43 179.65,-117.48\"/>\n",
       "</g>\n",
       "<!-- Alcohol -->\n",
       "<g id=\"node6\" class=\"node\">\n",
       "<title>Alcohol</title>\n",
       "<ellipse fill=\"none\" stroke=\"black\" cx=\"60.22\" cy=\"-90\" rx=\"40.6\" ry=\"18\"/>\n",
       "<text text-anchor=\"middle\" x=\"60.22\" y=\"-84.95\" font-family=\"Times,serif\" font-size=\"14.00\">Alcohol</text>\n",
       "</g>\n",
       "<!-- Stress Level&#45;&gt;Alcohol -->\n",
       "<g id=\"edge8\" class=\"edge\">\n",
       "<title>Stress Level&#45;&gt;Alcohol</title>\n",
       "<path fill=\"none\" stroke=\"black\" d=\"M112.86,-144.41C104.23,-135.66 93.48,-124.75 83.95,-115.08\"/>\n",
       "<polygon fill=\"black\" stroke=\"black\" points=\"86.55,-112.73 77.04,-108.07 81.56,-117.64 86.55,-112.73\"/>\n",
       "</g>\n",
       "<!-- Sleep -->\n",
       "<g id=\"node3\" class=\"node\">\n",
       "<title>Sleep</title>\n",
       "<ellipse fill=\"none\" stroke=\"black\" cx=\"71.22\" cy=\"-234\" rx=\"31.39\" ry=\"18\"/>\n",
       "<text text-anchor=\"middle\" x=\"71.22\" y=\"-228.95\" font-family=\"Times,serif\" font-size=\"14.00\">Sleep</text>\n",
       "</g>\n",
       "<!-- Sleep&#45;&gt;Stress Level -->\n",
       "<g id=\"edge2\" class=\"edge\">\n",
       "<title>Sleep&#45;&gt;Stress Level</title>\n",
       "<path fill=\"none\" stroke=\"black\" d=\"M84.09,-217.46C91.24,-208.83 100.32,-197.88 108.45,-188.06\"/>\n",
       "<polygon fill=\"black\" stroke=\"black\" points=\"110.92,-190.57 114.61,-180.63 105.53,-186.1 110.92,-190.57\"/>\n",
       "</g>\n",
       "<!-- Sleep&#45;&gt;Heart Attack Risk -->\n",
       "<g id=\"edge3\" class=\"edge\">\n",
       "<title>Sleep&#45;&gt;Heart Attack Risk</title>\n",
       "<path fill=\"none\" stroke=\"black\" d=\"M56.66,-217.8C29.95,-188.02 -21.36,-120.63 10.22,-72 21.86,-54.07 41.12,-42.16 60.8,-34.26\"/>\n",
       "<polygon fill=\"black\" stroke=\"black\" points=\"61.79,-37.62 69.98,-30.9 59.38,-31.05 61.79,-37.62\"/>\n",
       "</g>\n",
       "<!-- Exercise -->\n",
       "<g id=\"node4\" class=\"node\">\n",
       "<title>Exercise</title>\n",
       "<ellipse fill=\"none\" stroke=\"black\" cx=\"186.22\" cy=\"-234\" rx=\"42.65\" ry=\"18\"/>\n",
       "<text text-anchor=\"middle\" x=\"186.22\" y=\"-228.95\" font-family=\"Times,serif\" font-size=\"14.00\">Exercise</text>\n",
       "</g>\n",
       "<!-- Exercise&#45;&gt;Stress Level -->\n",
       "<g id=\"edge4\" class=\"edge\">\n",
       "<title>Exercise&#45;&gt;Stress Level</title>\n",
       "<path fill=\"none\" stroke=\"black\" d=\"M172.99,-216.76C166.12,-208.32 157.55,-197.8 149.83,-188.31\"/>\n",
       "<polygon fill=\"black\" stroke=\"black\" points=\"152.74,-186.35 143.72,-180.81 147.32,-190.77 152.74,-186.35\"/>\n",
       "</g>\n",
       "<!-- Exercise&#45;&gt;Heart Attack Risk -->\n",
       "<g id=\"edge5\" class=\"edge\">\n",
       "<title>Exercise&#45;&gt;Heart Attack Risk</title>\n",
       "<path fill=\"none\" stroke=\"black\" d=\"M202.77,-217.44C232.48,-187.6 288.83,-120.95 256.22,-72 243.52,-52.95 222.54,-40.74 201.25,-32.91\"/>\n",
       "<polygon fill=\"black\" stroke=\"black\" points=\"202.51,-29.64 191.91,-29.79 200.29,-36.28 202.51,-29.64\"/>\n",
       "</g>\n",
       "<!-- Smoking&#45;&gt;Heart Attack Risk -->\n",
       "<g id=\"edge7\" class=\"edge\">\n",
       "<title>Smoking&#45;&gt;Heart Attack Risk</title>\n",
       "<path fill=\"none\" stroke=\"black\" d=\"M185.65,-73.12C176.58,-64.42 165.14,-53.45 154.93,-43.66\"/>\n",
       "<polygon fill=\"black\" stroke=\"black\" points=\"157.47,-41.24 147.82,-36.84 152.62,-46.29 157.47,-41.24\"/>\n",
       "</g>\n",
       "<!-- Alcohol&#45;&gt;Heart Attack Risk -->\n",
       "<g id=\"edge9\" class=\"edge\">\n",
       "<title>Alcohol&#45;&gt;Heart Attack Risk</title>\n",
       "<path fill=\"none\" stroke=\"black\" d=\"M75.87,-73.12C84.36,-64.51 95.04,-53.67 104.62,-43.96\"/>\n",
       "<polygon fill=\"black\" stroke=\"black\" points=\"107.07,-46.45 111.6,-36.88 102.08,-41.54 107.07,-46.45\"/>\n",
       "</g>\n",
       "</g>\n",
       "</svg>\n"
      ],
      "text/plain": [
       "<graphviz.graphs.Digraph at 0x127a19990>"
      ]
     },
     "execution_count": 24,
     "metadata": {},
     "output_type": "execute_result"
    }
   ],
   "source": [
    "import graphviz as gr \n",
    "\n",
    "g = gr.Digraph()\n",
    "\n",
    "g.edge('Stress Level', 'Heart Attack Risk')\n",
    "g.edge('Sleep','Stress Level')\n",
    "g.edge('Sleep','Heart Attack Risk')\n",
    "g.edge('Exercise','Stress Level')\n",
    "g.edge('Exercise','Heart Attack Risk')\n",
    "g.edge('Stress Level','Smoking')\n",
    "g.edge('Smoking','Heart Attack Risk')\n",
    "g.edge('Stress Level','Alcohol')\n",
    "g.edge('Alcohol','Heart Attack Risk')\n",
    "g"
   ]
  },
  {
   "cell_type": "markdown",
   "metadata": {},
   "source": [
    "This is how the Graphical Causal Model would look like. There are a lot of Unseen features affecting \n",
    "stress level like work or family problems which cannot be calculated. \n",
    "\n",
    "As we can see there are two confounders : Sleep and Exercise \n",
    "- In medical research it is proven that a good sleep cycle reduces stress as well as the risk to heart attack \n",
    "- A person who exercises frequently has low risk of heart attack along with low stress levels\n",
    "\n",
    "As for the mediators : Alcohol and Smoking\n",
    "- People tend to drink more Alcohol when they are stressed which leads to Heart attack and the same \n",
    "goes for smoking \n",
    "\n"
   ]
  },
  {
   "cell_type": "markdown",
   "metadata": {},
   "source": [
    "--------------------------------------------------------------------------------------------------------------------------------------------\n",
    "## First we would calculate the total effect of Stress Level on Heart Attack Risk \n",
    "That means only controlling on the confounders to close the backdoor path."
   ]
  },
  {
   "cell_type": "code",
   "execution_count": 39,
   "metadata": {},
   "outputs": [
    {
     "data": {
      "text/plain": [
       "Index(['Patient ID', 'Age', 'Sex', 'Cholesterol', 'Blood Pressure',\n",
       "       'Heart Rate', 'Diabetes', 'Family History', 'Smoking', 'Obesity',\n",
       "       'Alcohol Consumption', 'Activity', 'Diet', 'Previous Heart Problems',\n",
       "       'Medication Use', 'StressLevel', 'Sedentary Hours Per Day', 'Income',\n",
       "       'BMI', 'Triglycerides', 'Physical Activity Days Per Week', 'Sleep',\n",
       "       'Country', 'Continent', 'Hemisphere', 'HeartAttackRisk'],\n",
       "      dtype='object')"
      ]
     },
     "execution_count": 39,
     "metadata": {},
     "output_type": "execute_result"
    }
   ],
   "source": [
    "data.columns"
   ]
  },
  {
   "cell_type": "code",
   "execution_count": 38,
   "metadata": {},
   "outputs": [],
   "source": [
    "data.rename(columns = {\n",
    "    'Heart Attack Risk' : 'HeartAttackRisk',\n",
    "    'Stress Level' : 'StressLevel',\n",
    "    'Sleep Hours Per Day' : 'Sleep',\n",
    "    'Exercise Hours Per Week': 'Activity',\n",
    "}, inplace = True)"
   ]
  },
  {
   "cell_type": "code",
   "execution_count": 45,
   "metadata": {},
   "outputs": [
    {
     "data": {
      "text/html": [
       "<table class=\"simpletable\">\n",
       "<tr>\n",
       "       <td></td>          <th>coef</th>     <th>std err</th>      <th>t</th>      <th>P>|t|</th>  <th>[0.025</th>    <th>0.975]</th>  \n",
       "</tr>\n",
       "<tr>\n",
       "  <th>Intercept</th>   <td>    0.3844</td> <td>    0.023</td> <td>   16.613</td> <td> 0.000</td> <td>    0.339</td> <td>    0.430</td>\n",
       "</tr>\n",
       "<tr>\n",
       "  <th>StressLevel</th> <td>   -0.0007</td> <td>    0.002</td> <td>   -0.400</td> <td> 0.689</td> <td>   -0.004</td> <td>    0.003</td>\n",
       "</tr>\n",
       "<tr>\n",
       "  <th>Sleep</th>       <td>   -0.0045</td> <td>    0.003</td> <td>   -1.739</td> <td> 0.082</td> <td>   -0.010</td> <td>    0.001</td>\n",
       "</tr>\n",
       "<tr>\n",
       "  <th>Activity</th>    <td>    0.0009</td> <td>    0.001</td> <td>    1.036</td> <td> 0.300</td> <td>   -0.001</td> <td>    0.003</td>\n",
       "</tr>\n",
       "</table>"
      ],
      "text/latex": [
       "\\begin{center}\n",
       "\\begin{tabular}{lcccccc}\n",
       "\\toprule\n",
       "                     & \\textbf{coef} & \\textbf{std err} & \\textbf{t} & \\textbf{P$> |$t$|$} & \\textbf{[0.025} & \\textbf{0.975]}  \\\\\n",
       "\\midrule\n",
       "\\textbf{Intercept}   &       0.3844  &        0.023     &    16.613  &         0.000        &        0.339    &        0.430     \\\\\n",
       "\\textbf{StressLevel} &      -0.0007  &        0.002     &    -0.400  &         0.689        &       -0.004    &        0.003     \\\\\n",
       "\\textbf{Sleep}       &      -0.0045  &        0.003     &    -1.739  &         0.082        &       -0.010    &        0.001     \\\\\n",
       "\\textbf{Activity}    &       0.0009  &        0.001     &     1.036  &         0.300        &       -0.001    &        0.003     \\\\\n",
       "\\bottomrule\n",
       "\\end{tabular}\n",
       "\\end{center}"
      ],
      "text/plain": [
       "<class 'statsmodels.iolib.table.SimpleTable'>"
      ]
     },
     "execution_count": 45,
     "metadata": {},
     "output_type": "execute_result"
    }
   ],
   "source": [
    "import statsmodels.formula.api as smf \n",
    "\n",
    "model = smf.ols('HeartAttackRisk ~ StressLevel + Sleep + Activity', data = data).fit()\n",
    "model.summary().tables[1]"
   ]
  },
  {
   "cell_type": "code",
   "execution_count": 49,
   "metadata": {},
   "outputs": [
    {
     "ename": "ImportError",
     "evalue": "dlopen(/Users/omkarnaik/Causal-Inferece/lib/python3.11/site-packages/statsmodels/tsa/statespace/_representation.cpython-311-darwin.so, 0x0002): symbol not found in flat namespace '_npy_cabs'",
     "output_type": "error",
     "traceback": [
      "\u001b[0;31m---------------------------------------------------------------------------\u001b[0m",
      "\u001b[0;31mImportError\u001b[0m                               Traceback (most recent call last)",
      "\u001b[1;32m/Users/omkarnaik/Causal-Inferece/obesity.ipynb Cell 20\u001b[0m line \u001b[0;36m1\n\u001b[0;32m----> <a href='vscode-notebook-cell:/Users/omkarnaik/Causal-Inferece/obesity.ipynb#X40sZmlsZQ%3D%3D?line=0'>1</a>\u001b[0m \u001b[39mfrom\u001b[39;00m \u001b[39mdowhy\u001b[39;00m \u001b[39mimport\u001b[39;00m CausalModel\n\u001b[1;32m      <a href='vscode-notebook-cell:/Users/omkarnaik/Causal-Inferece/obesity.ipynb#X40sZmlsZQ%3D%3D?line=2'>3</a>\u001b[0m graph_1 \u001b[39m=\u001b[39m \u001b[39m'''\u001b[39m\n\u001b[1;32m      <a href='vscode-notebook-cell:/Users/omkarnaik/Causal-Inferece/obesity.ipynb#X40sZmlsZQ%3D%3D?line=3'>4</a>\u001b[0m \u001b[39mgraph = [\u001b[39m\n\u001b[1;32m      <a href='vscode-notebook-cell:/Users/omkarnaik/Causal-Inferece/obesity.ipynb#X40sZmlsZQ%3D%3D?line=4'>5</a>\u001b[0m \u001b[39m    directed 1\u001b[39m\n\u001b[0;32m   (...)\u001b[0m\n\u001b[1;32m     <a href='vscode-notebook-cell:/Users/omkarnaik/Causal-Inferece/obesity.ipynb#X40sZmlsZQ%3D%3D?line=19'>20</a>\u001b[0m \u001b[39m    edge [source \u001b[39m\u001b[39m'\u001b[39m\u001b[39mAlcohol\u001b[39m\u001b[39m'\u001b[39m\u001b[39m target \u001b[39m\u001b[39m'\u001b[39m\u001b[39mHeartAttackRisk\u001b[39m\u001b[39m'\u001b[39m\u001b[39m]\u001b[39m\n\u001b[1;32m     <a href='vscode-notebook-cell:/Users/omkarnaik/Causal-Inferece/obesity.ipynb#X40sZmlsZQ%3D%3D?line=20'>21</a>\u001b[0m \u001b[39m    ]\u001b[39m\u001b[39m'''\u001b[39m\n\u001b[1;32m     <a href='vscode-notebook-cell:/Users/omkarnaik/Causal-Inferece/obesity.ipynb#X40sZmlsZQ%3D%3D?line=22'>23</a>\u001b[0m model_1 \u001b[39m=\u001b[39m CausalModel(data \u001b[39m=\u001b[39m data,\n\u001b[1;32m     <a href='vscode-notebook-cell:/Users/omkarnaik/Causal-Inferece/obesity.ipynb#X40sZmlsZQ%3D%3D?line=23'>24</a>\u001b[0m                     treatment\u001b[39m=\u001b[39m\u001b[39m'\u001b[39m\u001b[39mStressLevel\u001b[39m\u001b[39m'\u001b[39m,\n\u001b[1;32m     <a href='vscode-notebook-cell:/Users/omkarnaik/Causal-Inferece/obesity.ipynb#X40sZmlsZQ%3D%3D?line=24'>25</a>\u001b[0m                     outcome\u001b[39m=\u001b[39m \u001b[39m'\u001b[39m\u001b[39mHeartAttackRisk\u001b[39m\u001b[39m'\u001b[39m,\n\u001b[1;32m     <a href='vscode-notebook-cell:/Users/omkarnaik/Causal-Inferece/obesity.ipynb#X40sZmlsZQ%3D%3D?line=25'>26</a>\u001b[0m                     graph \u001b[39m=\u001b[39m graph_1,\n\u001b[1;32m     <a href='vscode-notebook-cell:/Users/omkarnaik/Causal-Inferece/obesity.ipynb#X40sZmlsZQ%3D%3D?line=26'>27</a>\u001b[0m                     )\n",
      "File \u001b[0;32m~/Causal-Inferece/lib/python3.11/site-packages/dowhy/__init__.py:4\u001b[0m\n\u001b[1;32m      1\u001b[0m \u001b[39mimport\u001b[39;00m \u001b[39mlogging\u001b[39;00m\n\u001b[1;32m      3\u001b[0m \u001b[39mfrom\u001b[39;00m \u001b[39mdowhy\u001b[39;00m\u001b[39m.\u001b[39;00m\u001b[39mcausal_identifier\u001b[39;00m \u001b[39mimport\u001b[39;00m EstimandType, identify_effect, identify_effect_auto, identify_effect_id\n\u001b[0;32m----> 4\u001b[0m \u001b[39mfrom\u001b[39;00m \u001b[39mdowhy\u001b[39;00m\u001b[39m.\u001b[39;00m\u001b[39mcausal_model\u001b[39;00m \u001b[39mimport\u001b[39;00m CausalModel\n\u001b[1;32m      6\u001b[0m logging\u001b[39m.\u001b[39mgetLogger(\u001b[39m__name__\u001b[39m)\u001b[39m.\u001b[39maddHandler(logging\u001b[39m.\u001b[39mNullHandler())\n\u001b[1;32m      8\u001b[0m \u001b[39m#\u001b[39;00m\n\u001b[1;32m      9\u001b[0m \u001b[39m# 0.0.0 is standard placeholder for poetry-dynamic-versioning\u001b[39;00m\n\u001b[1;32m     10\u001b[0m \u001b[39m# any changes to this should not be checked in\u001b[39;00m\n\u001b[1;32m     11\u001b[0m \u001b[39m#\u001b[39;00m\n",
      "File \u001b[0;32m~/Causal-Inferece/lib/python3.11/site-packages/dowhy/causal_model.py:12\u001b[0m\n\u001b[1;32m      9\u001b[0m \u001b[39mfrom\u001b[39;00m \u001b[39msympy\u001b[39;00m \u001b[39mimport\u001b[39;00m init_printing\n\u001b[1;32m     11\u001b[0m \u001b[39mimport\u001b[39;00m \u001b[39mdowhy\u001b[39;00m\u001b[39m.\u001b[39;00m\u001b[39mcausal_estimators\u001b[39;00m \u001b[39mas\u001b[39;00m \u001b[39mcausal_estimators\u001b[39;00m\n\u001b[0;32m---> 12\u001b[0m \u001b[39mimport\u001b[39;00m \u001b[39mdowhy\u001b[39;00m\u001b[39m.\u001b[39;00m\u001b[39mcausal_refuters\u001b[39;00m \u001b[39mas\u001b[39;00m \u001b[39mcausal_refuters\u001b[39;00m\n\u001b[1;32m     13\u001b[0m \u001b[39mimport\u001b[39;00m \u001b[39mdowhy\u001b[39;00m\u001b[39m.\u001b[39;00m\u001b[39mgraph_learners\u001b[39;00m \u001b[39mas\u001b[39;00m \u001b[39mgraph_learners\u001b[39;00m\n\u001b[1;32m     14\u001b[0m \u001b[39mfrom\u001b[39;00m \u001b[39mdowhy\u001b[39;00m\u001b[39m.\u001b[39;00m\u001b[39mcausal_estimator\u001b[39;00m \u001b[39mimport\u001b[39;00m CausalEstimate, estimate_effect\n",
      "File \u001b[0;32m~/Causal-Inferece/lib/python3.11/site-packages/dowhy/causal_refuters/__init__.py:5\u001b[0m\n\u001b[1;32m      2\u001b[0m \u001b[39mfrom\u001b[39;00m \u001b[39mimportlib\u001b[39;00m \u001b[39mimport\u001b[39;00m import_module\n\u001b[1;32m      4\u001b[0m \u001b[39mfrom\u001b[39;00m \u001b[39mdowhy\u001b[39;00m\u001b[39m.\u001b[39;00m\u001b[39mcausal_refuter\u001b[39;00m \u001b[39mimport\u001b[39;00m CausalRefuter\n\u001b[0;32m----> 5\u001b[0m \u001b[39mfrom\u001b[39;00m \u001b[39mdowhy\u001b[39;00m\u001b[39m.\u001b[39;00m\u001b[39mcausal_refuters\u001b[39;00m\u001b[39m.\u001b[39;00m\u001b[39madd_unobserved_common_cause\u001b[39;00m \u001b[39mimport\u001b[39;00m (\n\u001b[1;32m      6\u001b[0m     AddUnobservedCommonCause,\n\u001b[1;32m      7\u001b[0m     sensitivity_e_value,\n\u001b[1;32m      8\u001b[0m     sensitivity_simulation,\n\u001b[1;32m      9\u001b[0m )\n\u001b[1;32m     10\u001b[0m \u001b[39mfrom\u001b[39;00m \u001b[39mdowhy\u001b[39;00m\u001b[39m.\u001b[39;00m\u001b[39mcausal_refuters\u001b[39;00m\u001b[39m.\u001b[39;00m\u001b[39mbootstrap_refuter\u001b[39;00m \u001b[39mimport\u001b[39;00m BootstrapRefuter, refute_bootstrap\n\u001b[1;32m     11\u001b[0m \u001b[39mfrom\u001b[39;00m \u001b[39mdowhy\u001b[39;00m\u001b[39m.\u001b[39;00m\u001b[39mcausal_refuters\u001b[39;00m\u001b[39m.\u001b[39;00m\u001b[39mdata_subset_refuter\u001b[39;00m \u001b[39mimport\u001b[39;00m DataSubsetRefuter, refute_data_subset\n",
      "File \u001b[0;32m~/Causal-Inferece/lib/python3.11/site-packages/dowhy/causal_refuters/add_unobserved_common_cause.py:9\u001b[0m\n\u001b[1;32m      7\u001b[0m \u001b[39mimport\u001b[39;00m \u001b[39mpandas\u001b[39;00m \u001b[39mas\u001b[39;00m \u001b[39mpd\u001b[39;00m\n\u001b[1;32m      8\u001b[0m \u001b[39mimport\u001b[39;00m \u001b[39mscipy\u001b[39;00m\u001b[39m.\u001b[39;00m\u001b[39mstats\u001b[39;00m\n\u001b[0;32m----> 9\u001b[0m \u001b[39mimport\u001b[39;00m \u001b[39mstatsmodels\u001b[39;00m\u001b[39m.\u001b[39;00m\u001b[39mapi\u001b[39;00m \u001b[39mas\u001b[39;00m \u001b[39msm\u001b[39;00m\n\u001b[1;32m     10\u001b[0m \u001b[39mfrom\u001b[39;00m \u001b[39msklearn\u001b[39;00m\u001b[39m.\u001b[39;00m\u001b[39mlinear_model\u001b[39;00m \u001b[39mimport\u001b[39;00m LogisticRegression\n\u001b[1;32m     11\u001b[0m \u001b[39mfrom\u001b[39;00m \u001b[39msklearn\u001b[39;00m\u001b[39m.\u001b[39;00m\u001b[39mpreprocessing\u001b[39;00m \u001b[39mimport\u001b[39;00m StandardScaler\n",
      "File \u001b[0;32m~/Causal-Inferece/lib/python3.11/site-packages/statsmodels/api.py:136\u001b[0m\n\u001b[1;32m    134\u001b[0m \u001b[39mfrom\u001b[39;00m \u001b[39m.\u001b[39;00m\u001b[39mregression\u001b[39;00m\u001b[39m.\u001b[39;00m\u001b[39mmixed_linear_model\u001b[39;00m \u001b[39mimport\u001b[39;00m MixedLM\n\u001b[1;32m    135\u001b[0m \u001b[39mfrom\u001b[39;00m \u001b[39m.\u001b[39;00m\u001b[39mregression\u001b[39;00m\u001b[39m.\u001b[39;00m\u001b[39mquantile_regression\u001b[39;00m \u001b[39mimport\u001b[39;00m QuantReg\n\u001b[0;32m--> 136\u001b[0m \u001b[39mfrom\u001b[39;00m \u001b[39m.\u001b[39;00m\u001b[39mregression\u001b[39;00m\u001b[39m.\u001b[39;00m\u001b[39mrecursive_ls\u001b[39;00m \u001b[39mimport\u001b[39;00m RecursiveLS\n\u001b[1;32m    137\u001b[0m \u001b[39mfrom\u001b[39;00m \u001b[39m.\u001b[39;00m\u001b[39mrobust\u001b[39;00m\u001b[39m.\u001b[39;00m\u001b[39mrobust_linear_model\u001b[39;00m \u001b[39mimport\u001b[39;00m RLM\n\u001b[1;32m    138\u001b[0m \u001b[39mfrom\u001b[39;00m \u001b[39m.\u001b[39;00m\u001b[39mstats\u001b[39;00m \u001b[39mimport\u001b[39;00m api \u001b[39mas\u001b[39;00m stats\n",
      "File \u001b[0;32m~/Causal-Inferece/lib/python3.11/site-packages/statsmodels/regression/recursive_ls.py:14\u001b[0m\n\u001b[1;32m     11\u001b[0m \u001b[39mfrom\u001b[39;00m \u001b[39mstatsmodels\u001b[39;00m\u001b[39m.\u001b[39;00m\u001b[39mcompat\u001b[39;00m\u001b[39m.\u001b[39;00m\u001b[39mpandas\u001b[39;00m \u001b[39mimport\u001b[39;00m Appender\n\u001b[1;32m     13\u001b[0m \u001b[39mfrom\u001b[39;00m \u001b[39mstatsmodels\u001b[39;00m\u001b[39m.\u001b[39;00m\u001b[39mtools\u001b[39;00m\u001b[39m.\u001b[39;00m\u001b[39mdata\u001b[39;00m \u001b[39mimport\u001b[39;00m _is_using_pandas\n\u001b[0;32m---> 14\u001b[0m \u001b[39mfrom\u001b[39;00m \u001b[39mstatsmodels\u001b[39;00m\u001b[39m.\u001b[39;00m\u001b[39mtsa\u001b[39;00m\u001b[39m.\u001b[39;00m\u001b[39mstatespace\u001b[39;00m\u001b[39m.\u001b[39;00m\u001b[39mmlemodel\u001b[39;00m \u001b[39mimport\u001b[39;00m (\n\u001b[1;32m     15\u001b[0m     MLEModel, MLEResults, MLEResultsWrapper, PredictionResults,\n\u001b[1;32m     16\u001b[0m     PredictionResultsWrapper)\n\u001b[1;32m     17\u001b[0m \u001b[39mfrom\u001b[39;00m \u001b[39mstatsmodels\u001b[39;00m\u001b[39m.\u001b[39;00m\u001b[39mtsa\u001b[39;00m\u001b[39m.\u001b[39;00m\u001b[39mstatespace\u001b[39;00m\u001b[39m.\u001b[39;00m\u001b[39mtools\u001b[39;00m \u001b[39mimport\u001b[39;00m concat\n\u001b[1;32m     18\u001b[0m \u001b[39mfrom\u001b[39;00m \u001b[39mstatsmodels\u001b[39;00m\u001b[39m.\u001b[39;00m\u001b[39mtools\u001b[39;00m\u001b[39m.\u001b[39;00m\u001b[39mtools\u001b[39;00m \u001b[39mimport\u001b[39;00m Bunch\n",
      "File \u001b[0;32m~/Causal-Inferece/lib/python3.11/site-packages/statsmodels/tsa/statespace/mlemodel.py:33\u001b[0m\n\u001b[1;32m     30\u001b[0m \u001b[39mimport\u001b[39;00m \u001b[39mstatsmodels\u001b[39;00m\u001b[39m.\u001b[39;00m\u001b[39mtsa\u001b[39;00m\u001b[39m.\u001b[39;00m\u001b[39mbase\u001b[39;00m\u001b[39m.\u001b[39;00m\u001b[39mtsa_model\u001b[39;00m \u001b[39mas\u001b[39;00m \u001b[39mtsbase\u001b[39;00m\n\u001b[1;32m     32\u001b[0m \u001b[39mfrom\u001b[39;00m \u001b[39m.\u001b[39;00m\u001b[39mnews\u001b[39;00m \u001b[39mimport\u001b[39;00m NewsResults\n\u001b[0;32m---> 33\u001b[0m \u001b[39mfrom\u001b[39;00m \u001b[39m.\u001b[39;00m\u001b[39msimulation_smoother\u001b[39;00m \u001b[39mimport\u001b[39;00m SimulationSmoother\n\u001b[1;32m     34\u001b[0m \u001b[39mfrom\u001b[39;00m \u001b[39m.\u001b[39;00m\u001b[39mkalman_smoother\u001b[39;00m \u001b[39mimport\u001b[39;00m SmootherResults\n\u001b[1;32m     35\u001b[0m \u001b[39mfrom\u001b[39;00m \u001b[39m.\u001b[39;00m\u001b[39mkalman_filter\u001b[39;00m \u001b[39mimport\u001b[39;00m INVERT_UNIVARIATE, SOLVE_LU, MEMORY_CONSERVE\n",
      "File \u001b[0;32m~/Causal-Inferece/lib/python3.11/site-packages/statsmodels/tsa/statespace/simulation_smoother.py:11\u001b[0m\n\u001b[1;32m      9\u001b[0m \u001b[39mimport\u001b[39;00m \u001b[39mwarnings\u001b[39;00m\n\u001b[1;32m     10\u001b[0m \u001b[39mimport\u001b[39;00m \u001b[39mnumpy\u001b[39;00m \u001b[39mas\u001b[39;00m \u001b[39mnp\u001b[39;00m\n\u001b[0;32m---> 11\u001b[0m \u001b[39mfrom\u001b[39;00m \u001b[39m.\u001b[39;00m\u001b[39mkalman_smoother\u001b[39;00m \u001b[39mimport\u001b[39;00m KalmanSmoother\n\u001b[1;32m     12\u001b[0m \u001b[39mfrom\u001b[39;00m \u001b[39m.\u001b[39;00m\u001b[39mcfa_simulation_smoother\u001b[39;00m \u001b[39mimport\u001b[39;00m CFASimulationSmoother\n\u001b[1;32m     13\u001b[0m \u001b[39mfrom\u001b[39;00m \u001b[39m.\u001b[39;00m \u001b[39mimport\u001b[39;00m tools\n",
      "File \u001b[0;32m~/Causal-Inferece/lib/python3.11/site-packages/statsmodels/tsa/statespace/kalman_smoother.py:11\u001b[0m\n\u001b[1;32m      8\u001b[0m \u001b[39mimport\u001b[39;00m \u001b[39mnumpy\u001b[39;00m \u001b[39mas\u001b[39;00m \u001b[39mnp\u001b[39;00m\n\u001b[1;32m      9\u001b[0m \u001b[39mfrom\u001b[39;00m \u001b[39mtypes\u001b[39;00m \u001b[39mimport\u001b[39;00m SimpleNamespace\n\u001b[0;32m---> 11\u001b[0m \u001b[39mfrom\u001b[39;00m \u001b[39mstatsmodels\u001b[39;00m\u001b[39m.\u001b[39;00m\u001b[39mtsa\u001b[39;00m\u001b[39m.\u001b[39;00m\u001b[39mstatespace\u001b[39;00m\u001b[39m.\u001b[39;00m\u001b[39mrepresentation\u001b[39;00m \u001b[39mimport\u001b[39;00m OptionWrapper\n\u001b[1;32m     12\u001b[0m \u001b[39mfrom\u001b[39;00m \u001b[39mstatsmodels\u001b[39;00m\u001b[39m.\u001b[39;00m\u001b[39mtsa\u001b[39;00m\u001b[39m.\u001b[39;00m\u001b[39mstatespace\u001b[39;00m\u001b[39m.\u001b[39;00m\u001b[39mkalman_filter\u001b[39;00m \u001b[39mimport\u001b[39;00m (KalmanFilter,\n\u001b[1;32m     13\u001b[0m                                                       FilterResults)\n\u001b[1;32m     14\u001b[0m \u001b[39mfrom\u001b[39;00m \u001b[39mstatsmodels\u001b[39;00m\u001b[39m.\u001b[39;00m\u001b[39mtsa\u001b[39;00m\u001b[39m.\u001b[39;00m\u001b[39mstatespace\u001b[39;00m\u001b[39m.\u001b[39;00m\u001b[39mtools\u001b[39;00m \u001b[39mimport\u001b[39;00m (\n\u001b[1;32m     15\u001b[0m     reorder_missing_matrix, reorder_missing_vector, copy_index_matrix)\n",
      "File \u001b[0;32m~/Causal-Inferece/lib/python3.11/site-packages/statsmodels/tsa/statespace/representation.py:10\u001b[0m\n\u001b[1;32m      8\u001b[0m \u001b[39mimport\u001b[39;00m \u001b[39mwarnings\u001b[39;00m\n\u001b[1;32m      9\u001b[0m \u001b[39mimport\u001b[39;00m \u001b[39mnumpy\u001b[39;00m \u001b[39mas\u001b[39;00m \u001b[39mnp\u001b[39;00m\n\u001b[0;32m---> 10\u001b[0m \u001b[39mfrom\u001b[39;00m \u001b[39m.\u001b[39;00m\u001b[39mtools\u001b[39;00m \u001b[39mimport\u001b[39;00m (\n\u001b[1;32m     11\u001b[0m     find_best_blas_type, validate_matrix_shape, validate_vector_shape\n\u001b[1;32m     12\u001b[0m )\n\u001b[1;32m     13\u001b[0m \u001b[39mfrom\u001b[39;00m \u001b[39m.\u001b[39;00m\u001b[39minitialization\u001b[39;00m \u001b[39mimport\u001b[39;00m Initialization\n\u001b[1;32m     14\u001b[0m \u001b[39mfrom\u001b[39;00m \u001b[39m.\u001b[39;00m \u001b[39mimport\u001b[39;00m tools\n",
      "File \u001b[0;32m~/Causal-Inferece/lib/python3.11/site-packages/statsmodels/tsa/statespace/tools.py:14\u001b[0m\n\u001b[1;32m     12\u001b[0m \u001b[39mfrom\u001b[39;00m \u001b[39mstatsmodels\u001b[39;00m\u001b[39m.\u001b[39;00m\u001b[39mtools\u001b[39;00m\u001b[39m.\u001b[39;00m\u001b[39mdata\u001b[39;00m \u001b[39mimport\u001b[39;00m _is_using_pandas\n\u001b[1;32m     13\u001b[0m \u001b[39mfrom\u001b[39;00m \u001b[39mscipy\u001b[39;00m\u001b[39m.\u001b[39;00m\u001b[39mlinalg\u001b[39;00m\u001b[39m.\u001b[39;00m\u001b[39mblas\u001b[39;00m \u001b[39mimport\u001b[39;00m find_best_blas_type\n\u001b[0;32m---> 14\u001b[0m \u001b[39mfrom\u001b[39;00m \u001b[39m.\u001b[39;00m \u001b[39mimport\u001b[39;00m (_initialization, _representation, _kalman_filter,\n\u001b[1;32m     15\u001b[0m                _kalman_smoother, _simulation_smoother,\n\u001b[1;32m     16\u001b[0m                _cfa_simulation_smoother, _tools)\n\u001b[1;32m     19\u001b[0m compatibility_mode \u001b[39m=\u001b[39m \u001b[39mFalse\u001b[39;00m\n\u001b[1;32m     20\u001b[0m has_trmm \u001b[39m=\u001b[39m \u001b[39mTrue\u001b[39;00m\n",
      "File \u001b[0;32mstatsmodels/tsa/statespace/_initialization.pyx:1\u001b[0m, in \u001b[0;36minit statsmodels.tsa.statespace._initialization\u001b[0;34m()\u001b[0m\n",
      "\u001b[0;31mImportError\u001b[0m: dlopen(/Users/omkarnaik/Causal-Inferece/lib/python3.11/site-packages/statsmodels/tsa/statespace/_representation.cpython-311-darwin.so, 0x0002): symbol not found in flat namespace '_npy_cabs'"
     ]
    }
   ],
   "source": [
    "from dowhy import CausalModel\n",
    "\n",
    "graph_1 = '''\n",
    "graph = [\n",
    "    directed 1\n",
    "    \n",
    "    node [id 'Sleep' label 'Sleep']\n",
    "    mode [id 'Activity' label 'Activity']\n",
    "    node [id 'StressLevel' label 'StressLevel']\n",
    "    node [id 'Smoking' label 'Smoking']\n",
    "    node [id 'Alcohol' label 'Alcohol']\n",
    "    node [id 'HeartAttackRisk' label 'HeartAttackRisk']\n",
    "    \n",
    "    edge [source 'Sleep' target 'StressLevel']\n",
    "    edge [source 'Activity' target 'StressLevel']\n",
    "    edge [source 'StressLevel' target 'HeartAttackRisk']\n",
    "    edge [source 'StressLevel' target 'Smoking']\n",
    "    edge [source 'StressLevel' target 'Alcohol']\n",
    "    edge [source 'Smoking' target 'HeartAttackRisk']\n",
    "    edge [source 'Alcohol' target 'HeartAttackRisk']\n",
    "    ]'''\n",
    "    \n",
    "model_1 = CausalModel(data = data,\n",
    "                    treatment='StressLevel',\n",
    "                    outcome= 'HeartAttackRisk',\n",
    "                    graph = graph_1,\n",
    "                    )"
   ]
  },
  {
   "cell_type": "code",
   "execution_count": 43,
   "metadata": {},
   "outputs": [
    {
     "ename": "ValueError",
     "evalue": "Too few control units: N_c < K+1",
     "output_type": "error",
     "traceback": [
      "\u001b[0;31m---------------------------------------------------------------------------\u001b[0m",
      "\u001b[0;31mValueError\u001b[0m                                Traceback (most recent call last)",
      "\u001b[1;32m/Users/omkarnaik/Causal-Inferece/obesity.ipynb Cell 20\u001b[0m line \u001b[0;36m3\n\u001b[1;32m      <a href='vscode-notebook-cell:/Users/omkarnaik/Causal-Inferece/obesity.ipynb#X10sZmlsZQ%3D%3D?line=0'>1</a>\u001b[0m \u001b[39mfrom\u001b[39;00m \u001b[39mcausalinference\u001b[39;00m \u001b[39mimport\u001b[39;00m CausalModel\n\u001b[0;32m----> <a href='vscode-notebook-cell:/Users/omkarnaik/Causal-Inferece/obesity.ipynb#X10sZmlsZQ%3D%3D?line=2'>3</a>\u001b[0m cm \u001b[39m=\u001b[39m CausalModel(\n\u001b[1;32m      <a href='vscode-notebook-cell:/Users/omkarnaik/Causal-Inferece/obesity.ipynb#X10sZmlsZQ%3D%3D?line=3'>4</a>\u001b[0m     Y \u001b[39m=\u001b[39;49m data[\u001b[39m'\u001b[39;49m\u001b[39mHeartAttackRisk\u001b[39;49m\u001b[39m'\u001b[39;49m]\u001b[39m.\u001b[39;49mvalues,\n\u001b[1;32m      <a href='vscode-notebook-cell:/Users/omkarnaik/Causal-Inferece/obesity.ipynb#X10sZmlsZQ%3D%3D?line=4'>5</a>\u001b[0m     D \u001b[39m=\u001b[39;49m data[\u001b[39m'\u001b[39;49m\u001b[39mStressLevel\u001b[39;49m\u001b[39m'\u001b[39;49m]\u001b[39m.\u001b[39;49mvalues,\n\u001b[1;32m      <a href='vscode-notebook-cell:/Users/omkarnaik/Causal-Inferece/obesity.ipynb#X10sZmlsZQ%3D%3D?line=5'>6</a>\u001b[0m     X \u001b[39m=\u001b[39;49m data[[\u001b[39m'\u001b[39;49m\u001b[39mSex\u001b[39;49m\u001b[39m'\u001b[39;49m,\u001b[39m'\u001b[39;49m\u001b[39mAge\u001b[39;49m\u001b[39m'\u001b[39;49m,\u001b[39m'\u001b[39;49m\u001b[39mActivity\u001b[39;49m\u001b[39m'\u001b[39;49m,\u001b[39m'\u001b[39;49m\u001b[39mSleep\u001b[39;49m\u001b[39m'\u001b[39;49m]]\u001b[39m.\u001b[39;49mvalues\n\u001b[1;32m      <a href='vscode-notebook-cell:/Users/omkarnaik/Causal-Inferece/obesity.ipynb#X10sZmlsZQ%3D%3D?line=6'>7</a>\u001b[0m )\n\u001b[1;32m      <a href='vscode-notebook-cell:/Users/omkarnaik/Causal-Inferece/obesity.ipynb#X10sZmlsZQ%3D%3D?line=7'>8</a>\u001b[0m cm\u001b[39m.\u001b[39mest_via_ols(adj \u001b[39m=\u001b[39m \u001b[39m0\u001b[39m)\n\u001b[1;32m      <a href='vscode-notebook-cell:/Users/omkarnaik/Causal-Inferece/obesity.ipynb#X10sZmlsZQ%3D%3D?line=8'>9</a>\u001b[0m \u001b[39mprint\u001b[39m(cm\u001b[39m.\u001b[39mestimates)\n",
      "File \u001b[0;32m~/Causal-Inferece/lib/python3.11/site-packages/causalinference/causal.py:17\u001b[0m, in \u001b[0;36mCausalModel.__init__\u001b[0;34m(self, Y, D, X)\u001b[0m\n\u001b[1;32m     15\u001b[0m \u001b[39mdef\u001b[39;00m \u001b[39m__init__\u001b[39m(\u001b[39mself\u001b[39m, Y, D, X):\n\u001b[0;32m---> 17\u001b[0m \t\u001b[39mself\u001b[39m\u001b[39m.\u001b[39mold_data \u001b[39m=\u001b[39m Data(Y, D, X)\n\u001b[1;32m     18\u001b[0m \t\u001b[39mself\u001b[39m\u001b[39m.\u001b[39mreset()\n",
      "File \u001b[0;32m~/Causal-Inferece/lib/python3.11/site-packages/causalinference/core/data.py:63\u001b[0m, in \u001b[0;36mData.__init__\u001b[0;34m(self, outcome, treatment, covariates)\u001b[0m\n\u001b[1;32m     61\u001b[0m \u001b[39mself\u001b[39m\u001b[39m.\u001b[39m_dict[\u001b[39m'\u001b[39m\u001b[39mN_c\u001b[39m\u001b[39m'\u001b[39m] \u001b[39m=\u001b[39m \u001b[39mself\u001b[39m\u001b[39m.\u001b[39m_dict[\u001b[39m'\u001b[39m\u001b[39mN\u001b[39m\u001b[39m'\u001b[39m] \u001b[39m-\u001b[39m \u001b[39mself\u001b[39m\u001b[39m.\u001b[39m_dict[\u001b[39m'\u001b[39m\u001b[39mN_t\u001b[39m\u001b[39m'\u001b[39m]\n\u001b[1;32m     62\u001b[0m \u001b[39mif\u001b[39;00m \u001b[39mself\u001b[39m\u001b[39m.\u001b[39m_dict[\u001b[39m'\u001b[39m\u001b[39mK\u001b[39m\u001b[39m'\u001b[39m]\u001b[39m+\u001b[39m\u001b[39m1\u001b[39m \u001b[39m>\u001b[39m \u001b[39mself\u001b[39m\u001b[39m.\u001b[39m_dict[\u001b[39m'\u001b[39m\u001b[39mN_c\u001b[39m\u001b[39m'\u001b[39m]:\n\u001b[0;32m---> 63\u001b[0m \t\u001b[39mraise\u001b[39;00m \u001b[39mValueError\u001b[39;00m(\u001b[39m'\u001b[39m\u001b[39mToo few control units: N_c < K+1\u001b[39m\u001b[39m'\u001b[39m)\n\u001b[1;32m     64\u001b[0m \u001b[39mif\u001b[39;00m \u001b[39mself\u001b[39m\u001b[39m.\u001b[39m_dict[\u001b[39m'\u001b[39m\u001b[39mK\u001b[39m\u001b[39m'\u001b[39m]\u001b[39m+\u001b[39m\u001b[39m1\u001b[39m \u001b[39m>\u001b[39m \u001b[39mself\u001b[39m\u001b[39m.\u001b[39m_dict[\u001b[39m'\u001b[39m\u001b[39mN_t\u001b[39m\u001b[39m'\u001b[39m]:\n\u001b[1;32m     65\u001b[0m \t\u001b[39mraise\u001b[39;00m \u001b[39mValueError\u001b[39;00m(\u001b[39m'\u001b[39m\u001b[39mToo few treated units: N_t < K+1\u001b[39m\u001b[39m'\u001b[39m)\n",
      "\u001b[0;31mValueError\u001b[0m: Too few control units: N_c < K+1"
     ]
    }
   ],
   "source": [
    "from causalinference import CausalModel\n",
    "\n",
    "cm = CausalModel(\n",
    "    Y = data['HeartAttackRisk'].values,\n",
    "    D = data['StressLevel'].values,\n",
    "    X = data[['Sex','Age','Activity','Sleep']].values\n",
    ")\n",
    "cm.est_via_ols(adj = 0)\n",
    "print(cm.estimates)"
   ]
  },
  {
   "cell_type": "code",
   "execution_count": 72,
   "metadata": {},
   "outputs": [
    {
     "name": "stdout",
     "output_type": "stream",
     "text": [
      "<class 'pandas.core.frame.DataFrame'>\n",
      "RangeIndex: 2111 entries, 0 to 2110\n",
      "Data columns (total 16 columns):\n",
      " #   Column                          Non-Null Count  Dtype  \n",
      "---  ------                          --------------  -----  \n",
      " 0   Gender                          2111 non-null   object \n",
      " 1   Age                             2111 non-null   float64\n",
      " 2   Height                          2111 non-null   float64\n",
      " 3   Weight                          2111 non-null   float64\n",
      " 4   family_history_with_overweight  2111 non-null   int64  \n",
      " 5   FAVC                            2111 non-null   int64  \n",
      " 6   FCVC                            2111 non-null   float64\n",
      " 7   NCP                             2111 non-null   float64\n",
      " 8   CAEC                            2111 non-null   int64  \n",
      " 9   SMOKE                           2111 non-null   int64  \n",
      " 10  CH2O                            2111 non-null   float64\n",
      " 11  SCC                             2111 non-null   int64  \n",
      " 12  FAF                             2111 non-null   float64\n",
      " 13  TUE                             2111 non-null   float64\n",
      " 14  CALC                            2111 non-null   object \n",
      " 15  label                           2111 non-null   int64  \n",
      "dtypes: float64(8), int64(6), object(2)\n",
      "memory usage: 264.0+ KB\n"
     ]
    }
   ],
   "source": [
    "data.info()"
   ]
  },
  {
   "cell_type": "code",
   "execution_count": null,
   "metadata": {},
   "outputs": [],
   "source": []
  },
  {
   "cell_type": "code",
   "execution_count": null,
   "metadata": {},
   "outputs": [],
   "source": []
  }
 ],
 "metadata": {
  "kernelspec": {
   "display_name": "Causal-Inferece",
   "language": "python",
   "name": "python3"
  },
  "language_info": {
   "codemirror_mode": {
    "name": "ipython",
    "version": 3
   },
   "file_extension": ".py",
   "mimetype": "text/x-python",
   "name": "python",
   "nbconvert_exporter": "python",
   "pygments_lexer": "ipython3",
   "version": "3.11.5"
  },
  "orig_nbformat": 4
 },
 "nbformat": 4,
 "nbformat_minor": 2
}
